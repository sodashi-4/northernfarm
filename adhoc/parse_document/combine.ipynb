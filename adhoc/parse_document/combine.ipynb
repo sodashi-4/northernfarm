{
 "cells": [
  {
   "cell_type": "code",
   "execution_count": null,
   "metadata": {},
   "outputs": [],
   "source": [
    "import re\n",
    "import os\n",
    "from PIL import Image\n",
    "import img2pdf"
   ]
  },
  {
   "cell_type": "code",
   "execution_count": null,
   "id": "b4e4c105",
   "metadata": {},
   "outputs": [],
   "source": [
    "obj_name = \"\""
   ]
  },
  {
   "cell_type": "code",
   "execution_count": null,
   "id": "5997ee57",
   "metadata": {},
   "outputs": [],
   "source": [
    "ROOT_DIR = os.getcwd()"
   ]
  },
  {
   "cell_type": "code",
   "execution_count": null,
   "id": "3d358b84",
   "metadata": {},
   "outputs": [],
   "source": [
    "files = os.listdir(f\"{ROOT_DIR}/data/scan_data/{obj_name}\")"
   ]
  },
  {
   "cell_type": "code",
   "execution_count": null,
   "id": "fd7fc72d",
   "metadata": {},
   "outputs": [],
   "source": [
    "files_dict = {}"
   ]
  },
  {
   "cell_type": "code",
   "execution_count": null,
   "id": "b61a14cc",
   "metadata": {},
   "outputs": [],
   "source": [
    "for i, file in enumerate(files):\n",
    "    if re.search(r\"p\\d{2}\\.png\", file):\n",
    "        files_dict[file[0] + \"0\" + file[1:]] = file\n",
    "    elif re.search(r\"p\\d\\.png\", file):\n",
    "        files_dict[file[0] + \"00\" + file[1:]] = file\n",
    "    else:\n",
    "        files_dict[file] = file"
   ]
  },
  {
   "cell_type": "code",
   "execution_count": null,
   "id": "63511a75",
   "metadata": {},
   "outputs": [],
   "source": [
    "file_list = []\n",
    "file_list.extend(files_dict.keys())\n",
    "file_list = sorted(file_list)"
   ]
  },
  {
   "cell_type": "code",
   "execution_count": null,
   "id": "8478aeb0",
   "metadata": {},
   "outputs": [],
   "source": [
    "l = 120\n",
    "t = 20\n",
    "r = 1040\n",
    "b = 1350\n",
    "# p = \"p5\"\n",
    "p = \"cover\""
   ]
  },
  {
   "cell_type": "code",
   "execution_count": null,
   "id": "fa811bb9",
   "metadata": {},
   "outputs": [],
   "source": [
    "img = Image.open(f\"{ROOT_DIR}/data/scan_data/{obj_name}/{p}.png\")\n",
    "print(img.size)\n",
    "img_crop = img.crop((l,t,r,b))\n",
    "img_crop.show()"
   ]
  },
  {
   "cell_type": "code",
   "execution_count": null,
   "id": "1da8a20f",
   "metadata": {},
   "outputs": [],
   "source": [
    "os.makedirs(f\"{ROOT_DIR}/data/croped_data/{obj_name}\", exist_ok=True)\n",
    "for file in file_list:\n",
    "  img = Image.open(f\"{ROOT_DIR}/data/scan_data/{obj_name}/{files_dict[file]}\")\n",
    "  img_crop = img.crop((l,t,r,b))\n",
    "  img_crop.save(f\"{ROOT_DIR}/data/croped_data/{obj_name}/{file}\" )"
   ]
  },
  {
   "cell_type": "code",
   "execution_count": null,
   "id": "e748f911",
   "metadata": {},
   "outputs": [],
   "source": [
    "pdf_file_name = f\"{ROOT_DIR}/data/pdf/{obj_name[:-1]}.pdf\"\n",
    "png_folder = f\"{ROOT_DIR}/data/croped_data/{obj_name}\"\n",
    "extension = \".png\""
   ]
  },
  {
   "cell_type": "code",
   "execution_count": null,
   "id": "7ebcc7e6",
   "metadata": {},
   "outputs": [],
   "source": [
    "with open(pdf_file_name, \"wb\") as f:\n",
    "    f.write(img2pdf.convert([png_folder+\"/\"+i for i in file_list]))"
   ]
  },
  {
   "cell_type": "code",
   "execution_count": null,
   "id": "fa84449b",
   "metadata": {},
   "outputs": [],
   "source": []
  }
 ],
 "metadata": {
  "kernelspec": {
   "display_name": "Python 3.10.8 ('.venv': pipenv)",
   "language": "python",
   "name": "python3"
  },
  "language_info": {
   "codemirror_mode": {
    "name": "ipython",
    "version": 3
   },
   "file_extension": ".py",
   "mimetype": "text/x-python",
   "name": "python",
   "nbconvert_exporter": "python",
   "pygments_lexer": "ipython3",
   "version": "3.9.6"
  },
  "vscode": {
   "interpreter": {
    "hash": "c7052cd1730e2245842c970792db6d7d82be5f5935d59b178603b56a8b0a7f1f"
   }
  }
 },
 "nbformat": 4,
 "nbformat_minor": 5
}
