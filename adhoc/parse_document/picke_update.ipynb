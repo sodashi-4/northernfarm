{
 "cells": [
  {
   "cell_type": "code",
   "execution_count": 1,
   "metadata": {},
   "outputs": [],
   "source": [
    "import pickle"
   ]
  },
  {
   "cell_type": "code",
   "execution_count": 2,
   "metadata": {},
   "outputs": [],
   "source": [
    "f = open(\"./skip_list.pickle\", \"rb\")\n",
    "skip_list = pickle.load(f)"
   ]
  },
  {
   "cell_type": "code",
   "execution_count": 3,
   "metadata": {},
   "outputs": [
    {
     "data": {
      "text/plain": [
       "['.gitignore',\n",
       " 'モダンJavaScriptの基本から始める\\u3000React実践の教科書\\u3000（最新ReactHooks対応） ',\n",
       " 'nginx実践ガイド impress top gearシリーズ ',\n",
       " 'イラスト図解式 この一冊で全部わかるネットワークの基本 ',\n",
       " 'Python 実践 データ加工／可視化 100本ノック ',\n",
       " 'プロフェッショナルPython ソフトウェアデザインの原則と実践 impress top gearシリーズ ']"
      ]
     },
     "execution_count": 3,
     "metadata": {},
     "output_type": "execute_result"
    }
   ],
   "source": [
    "skip_list"
   ]
  },
  {
   "cell_type": "code",
   "execution_count": 8,
   "metadata": {},
   "outputs": [],
   "source": [
    "skip_list.extend(os.listdir(f\"{os.getcwd()}/data\"))"
   ]
  },
  {
   "cell_type": "code",
   "execution_count": 9,
   "metadata": {},
   "outputs": [
    {
     "data": {
      "text/plain": [
       "['.gitignore',\n",
       " 'モダンJavaScriptの基本から始める\\u3000React実践の教科書\\u3000（最新ReactHooks対応） ',\n",
       " 'nginx実践ガイド impress top gearシリーズ ',\n",
       " 'イラスト図解式 この一冊で全部わかるネットワークの基本 ',\n",
       " 'Python 実践 データ加工／可視化 100本ノック ',\n",
       " 'プロフェッショナルPython ソフトウェアデザインの原則と実践 impress top gearシリーズ ']"
      ]
     },
     "execution_count": 9,
     "metadata": {},
     "output_type": "execute_result"
    }
   ],
   "source": [
    "skip_list"
   ]
  },
  {
   "cell_type": "code",
   "execution_count": 10,
   "metadata": {},
   "outputs": [],
   "source": [
    "with open(\"skip_list.pickle\", \"wb\") as f:\n",
    "    pickle.dump(skip_list, f)"
   ]
  },
  {
   "cell_type": "code",
   "execution_count": null,
   "metadata": {},
   "outputs": [],
   "source": []
  }
 ],
 "metadata": {
  "kernelspec": {
   "display_name": "Python 3.10.8 ('.venv': pipenv)",
   "language": "python",
   "name": "python3"
  },
  "language_info": {
   "codemirror_mode": {
    "name": "ipython",
    "version": 3
   },
   "file_extension": ".py",
   "mimetype": "text/x-python",
   "name": "python",
   "nbconvert_exporter": "python",
   "pygments_lexer": "ipython3",
   "version": "3.10.8"
  },
  "orig_nbformat": 4,
  "vscode": {
   "interpreter": {
    "hash": "4340aa010b6c7c5297f8a3259fa25b87fce4a599b39a1db34eb0cdbfa20d00d8"
   }
  }
 },
 "nbformat": 4,
 "nbformat_minor": 2
}
